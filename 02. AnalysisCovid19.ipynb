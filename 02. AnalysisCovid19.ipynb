{
 "cells": [
  {
   "cell_type": "code",
   "execution_count": 2,
   "metadata": {},
   "outputs": [],
   "source": [
    "import pandas as pd\n",
    "confirmed_df = pd.read_csv(\"./KaggleData/covid19/time_series_covid_19_confirmed.csv\")\n",
    "deaths_df = pd.read_csv(\"./KaggleData/covid19/time_series_covid_19_deaths.csv\")\n",
    "recovered_df = pd.read_csv(\"./KaggleData/covid19/time_series_covid_19_recovered.csv\")"
   ]
  },
  {
   "cell_type": "code",
   "execution_count": 5,
   "metadata": {},
   "outputs": [
    {
     "name": "stdout",
     "output_type": "stream",
     "text": [
      "(276, 498)\n",
      "(276, 498)\n",
      "(261, 498)\n"
     ]
    }
   ],
   "source": [
    "print(confirmed_df.shape)\n",
    "print(deaths_df.shape)\n",
    "print(recovered_df.shape)"
   ]
  },
  {
   "cell_type": "code",
   "execution_count": 7,
   "metadata": {},
   "outputs": [],
   "source": [
    "# 대한민국 데이터 추출\n",
    "idx_korea = (confirmed_df['Country/Region'] == 'Korea, South')\n",
    "confirmed_korea_df = confirmed_df[idx_korea]"
   ]
  },
  {
   "cell_type": "code",
   "execution_count": 10,
   "metadata": {},
   "outputs": [
    {
     "name": "stdout",
     "output_type": "stream",
     "text": [
      "(1, 498)\n"
     ]
    },
    {
     "data": {
      "text/html": [
       "<div>\n",
       "<style scoped>\n",
       "    .dataframe tbody tr th:only-of-type {\n",
       "        vertical-align: middle;\n",
       "    }\n",
       "\n",
       "    .dataframe tbody tr th {\n",
       "        vertical-align: top;\n",
       "    }\n",
       "\n",
       "    .dataframe thead th {\n",
       "        text-align: right;\n",
       "    }\n",
       "</style>\n",
       "<table border=\"1\" class=\"dataframe\">\n",
       "  <thead>\n",
       "    <tr style=\"text-align: right;\">\n",
       "      <th></th>\n",
       "      <th>Province/State</th>\n",
       "      <th>Country/Region</th>\n",
       "      <th>Lat</th>\n",
       "      <th>Long</th>\n",
       "      <th>1/22/20</th>\n",
       "      <th>1/23/20</th>\n",
       "      <th>1/24/20</th>\n",
       "      <th>1/25/20</th>\n",
       "      <th>1/26/20</th>\n",
       "      <th>1/27/20</th>\n",
       "      <th>...</th>\n",
       "      <th>5/20/21</th>\n",
       "      <th>5/21/21</th>\n",
       "      <th>5/22/21</th>\n",
       "      <th>5/23/21</th>\n",
       "      <th>5/24/21</th>\n",
       "      <th>5/25/21</th>\n",
       "      <th>5/26/21</th>\n",
       "      <th>5/27/21</th>\n",
       "      <th>5/28/21</th>\n",
       "      <th>5/29/21</th>\n",
       "    </tr>\n",
       "  </thead>\n",
       "  <tbody>\n",
       "    <tr>\n",
       "      <th>160</th>\n",
       "      <td>NaN</td>\n",
       "      <td>Korea, South</td>\n",
       "      <td>35.907757</td>\n",
       "      <td>127.766922</td>\n",
       "      <td>1</td>\n",
       "      <td>1</td>\n",
       "      <td>2</td>\n",
       "      <td>2</td>\n",
       "      <td>3</td>\n",
       "      <td>4</td>\n",
       "      <td>...</td>\n",
       "      <td>134678</td>\n",
       "      <td>135344</td>\n",
       "      <td>135929</td>\n",
       "      <td>136467</td>\n",
       "      <td>136983</td>\n",
       "      <td>137682</td>\n",
       "      <td>138311</td>\n",
       "      <td>138898</td>\n",
       "      <td>139431</td>\n",
       "      <td>139910</td>\n",
       "    </tr>\n",
       "  </tbody>\n",
       "</table>\n",
       "<p>1 rows × 498 columns</p>\n",
       "</div>"
      ],
      "text/plain": [
       "    Province/State Country/Region        Lat        Long  1/22/20  1/23/20  \\\n",
       "160            NaN   Korea, South  35.907757  127.766922        1        1   \n",
       "\n",
       "     1/24/20  1/25/20  1/26/20  1/27/20  ...  5/20/21  5/21/21  5/22/21  \\\n",
       "160        2        2        3        4  ...   134678   135344   135929   \n",
       "\n",
       "     5/23/21  5/24/21  5/25/21  5/26/21  5/27/21  5/28/21  5/29/21  \n",
       "160   136467   136983   137682   138311   138898   139431   139910  \n",
       "\n",
       "[1 rows x 498 columns]"
      ]
     },
     "execution_count": 10,
     "metadata": {},
     "output_type": "execute_result"
    }
   ],
   "source": [
    "print(confirmed_korea_df.shape)\n",
    "confirmed_korea_df"
   ]
  },
  {
   "cell_type": "code",
   "execution_count": 18,
   "metadata": {},
   "outputs": [
    {
     "data": {
      "text/plain": [
       "(1, 494)"
      ]
     },
     "execution_count": 18,
     "metadata": {},
     "output_type": "execute_result"
    }
   ],
   "source": [
    "import matplotlib.pyplot as plt\n",
    "import numpy as np\n",
    "import matplotlib as mpl\n",
    "mpl.rcParams['axes.unicode_minus'] = False\n",
    "mpl.rcParams['font.family'] = 'Malgun Gothic'\n",
    "plt.rcParams.update({'text.color': \"black\",\n",
    "                    'axes.labelcolor': \"white\",\n",
    "                     'xtick.color': \"white\",\n",
    "                     'ytick.color': \"white\"\n",
    "                     })\n",
    "confirmed_korea_np = np.array(confirmed_korea_df)   # numpy 배열로 변환\n",
    "confirmed_korea_np = confirmed_korea_np[:, 4:]  # 2차원 배열 [행전체, 열 5번째부터]\n",
    "confirmed_korea_np.shape"
   ]
  },
  {
   "cell_type": "code",
   "execution_count": 19,
   "metadata": {},
   "outputs": [
    {
     "data": {
      "image/png": "[encoded data removed]",
      "text/plain": [
       "<Figure size 432x288 with 1 Axes>"
      ]
     },
     "metadata": {
      "needs_background": "dark"
     },
     "output_type": "display_data"
    }
   ],
   "source": [
    "plt.plot(confirmed_korea_np[0, :])\n",
    "plt.show()"
   ]
  },
  {
   "cell_type": "code",
   "execution_count": 21,
   "metadata": {},
   "outputs": [
    {
     "data": {
      "image/png": "[encoded data removed]",
      "text/plain": [
       "<Figure size 432x288 with 1 Axes>"
      ]
     },
     "metadata": {
      "needs_background": "dark"
     },
     "output_type": "display_data"
    }
   ],
   "source": [
    "plt.plot(confirmed_korea_np[0, :])   # 확진자 그래프 그리기\n",
    "label_x = confirmed_korea_df.columns.values[4:] # Data Frame에서 인덱스 가져오기\n",
    "\n",
    "sel_ids = range(0, len(label_x), 100)   # 눈금을 표시할 위치 선택\n",
    "plt.xticks(sel_ids, labels=label_x[sel_ids])    # 눈금 표시\n",
    "plt.show()"
   ]
  },
  {
   "cell_type": "code",
   "execution_count": null,
   "metadata": {},
   "outputs": [],
   "source": []
  }
 ],
 "metadata": {
  "kernelspec": {
   "display_name": "Python 3.9.12 ('base')",
   "language": "python",
   "name": "python3"
  },
  "language_info": {
   "codemirror_mode": {
    "name": "ipython",
    "version": 3
   },
   "file_extension": ".py",
   "mimetype": "text/x-python",
   "name": "python",
   "nbconvert_exporter": "python",
   "pygments_lexer": "ipython3",
   "version": "3.9.12"
  },
  "orig_nbformat": 4,
  "vscode": {
   "interpreter": {
    "hash": "68b27da7ddeb61625eb32b27b233f0587b7aa507dfa408f4f61141179036d5a9"
   }
  }
 },
 "nbformat": 4,
 "nbformat_minor": 2
}
