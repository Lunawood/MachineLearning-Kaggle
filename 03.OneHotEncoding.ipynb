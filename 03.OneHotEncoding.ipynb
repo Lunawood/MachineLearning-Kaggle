{
 "cells": [
  {
   "cell_type": "code",
   "execution_count": 1,
   "metadata": {},
   "outputs": [
    {
     "name": "stdout",
     "output_type": "stream",
     "text": [
      "[0. 0. 1. 0. 1. 1.]\n"
     ]
    }
   ],
   "source": [
    "# 범주가 2개인 경우\n",
    "sex = ['male', 'male', 'female', 'male', 'female', 'female']\n",
    "\n",
    "import numpy as np\n",
    "sex_conv = np.zeros(6)  # numpy 배열 6개 0으로 채워짐 [0,0,0,0,0,0]\n",
    "for cnt, x in enumerate(sex):\n",
    "    if(x=='female'):\n",
    "        sex_conv[cnt] = 1\n",
    "\n",
    "print(sex_conv)"
   ]
  },
  {
   "cell_type": "code",
   "execution_count": 5,
   "metadata": {},
   "outputs": [
    {
     "name": "stdout",
     "output_type": "stream",
     "text": [
      "  남 여\n",
      "[[1. 0.]\n",
      " [1. 0.]\n",
      " [0. 1.]\n",
      " [1. 0.]\n",
      " [0. 1.]\n",
      " [0. 1.]]\n"
     ]
    }
   ],
   "source": [
    "# 범주가 3개 이상인 경우는 One-Hot-Encoding을 사용해야한다.\n",
    "# tensorflow.keras.utils 모듈의 to_categorical 함수 import\n",
    "from tensorflow.keras.utils import to_categorical\n",
    "\n",
    "# one-hot-encoding 적용\n",
    "sex_cate = to_categorical(sex_conv)\n",
    "\n",
    "print('  남', '여')\n",
    "print(sex_cate)"
   ]
  },
  {
   "cell_type": "code",
   "execution_count": 6,
   "metadata": {},
   "outputs": [
    {
     "name": "stdout",
     "output_type": "stream",
     "text": [
      "[3 1 2 1 2 3]\n"
     ]
    }
   ],
   "source": []
  },
  {
   "cell_type": "code",
   "execution_count": 9,
   "metadata": {},
   "outputs": [
    {
     "name": "stdout",
     "output_type": "stream",
     "text": [
      "numpy 배열\n",
      "[3 1 2 1 2 3]\n",
      "\n",
      "one-hot-encoding\n",
      "[[0. 0. 1.]\n",
      " [1. 0. 0.]\n",
      " [0. 1. 0.]\n",
      " [1. 0. 0.]\n",
      " [0. 1. 0.]\n",
      " [0. 0. 1.]]\n"
     ]
    }
   ],
   "source": [
    "pclass_orig = np.array([3, 1, 2, 1, 2, 3])\n",
    "print(\"numpy 배열\")\n",
    "print(pclass_orig)\n",
    "\n",
    "# tensorflow.keras.utils 모듈의 to_categorical 함수 import \n",
    "from tensorflow.keras.utils import to_categorical\n",
    "\n",
    "# (0,1,2의 값을 가지도록) 1을 뺀 후, one-hot-encoding 적용\n",
    "pclass_cate = to_categorical(pclass_orig - 1)\n",
    "\n",
    "print(\"\\none-hot-encoding\")\n",
    "print(pclass_cate)"
   ]
  },
  {
   "cell_type": "code",
   "execution_count": null,
   "metadata": {},
   "outputs": [],
   "source": []
  }
 ],
 "metadata": {
  "kernelspec": {
   "display_name": "Python 3.9.12 ('base')",
   "language": "python",
   "name": "python3"
  },
  "language_info": {
   "codemirror_mode": {
    "name": "ipython",
    "version": 3
   },
   "file_extension": ".py",
   "mimetype": "text/x-python",
   "name": "python",
   "nbconvert_exporter": "python",
   "pygments_lexer": "ipython3",
   "version": "3.9.12"
  },
  "orig_nbformat": 4,
  "vscode": {
   "interpreter": {
    "hash": "68b27da7ddeb61625eb32b27b233f0587b7aa507dfa408f4f61141179036d5a9"
   }
  }
 },
 "nbformat": 4,
 "nbformat_minor": 2
}
